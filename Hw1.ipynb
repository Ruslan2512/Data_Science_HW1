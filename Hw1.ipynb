{
 "cells": [
  {
   "cell_type": "code",
   "execution_count": 1,
   "id": "b0027979",
   "metadata": {},
   "outputs": [],
   "source": [
    "import numpy as np"
   ]
  },
  {
   "cell_type": "code",
   "execution_count": 4,
   "id": "c15c43fc",
   "metadata": {},
   "outputs": [
    {
     "name": "stdout",
     "output_type": "stream",
     "text": [
      "[ 1  2  3  4  5  6  7  8  9 10]\n"
     ]
    }
   ],
   "source": [
    "#1.Створіть одновимірний масив (вектор) з першими 10-ма натуральними числами та виведіть його значення.\n",
    "vector = np.arange(1,11)\n",
    "print(vector)"
   ]
  },
  {
   "cell_type": "code",
   "execution_count": 5,
   "id": "20af5c83",
   "metadata": {},
   "outputs": [
    {
     "name": "stdout",
     "output_type": "stream",
     "text": [
      "[[0 0 0]\n",
      " [0 0 0]\n",
      " [0 0 0]]\n"
     ]
    }
   ],
   "source": [
    "#2.Створіть двовимірний масив (матрицю) розміром 3x3, заповніть його нулями та виведіть його значення.\n",
    "matrix = np.zeros((3,3), dtype=int)\n",
    "print(matrix)"
   ]
  },
  {
   "cell_type": "code",
   "execution_count": 6,
   "id": "36a06d46",
   "metadata": {},
   "outputs": [
    {
     "name": "stdout",
     "output_type": "stream",
     "text": [
      "[[4 2 1 1 6]\n",
      " [8 7 1 7 1]\n",
      " [9 2 3 1 4]\n",
      " [1 9 6 2 2]\n",
      " [2 2 4 6 8]]\n"
     ]
    }
   ],
   "source": [
    "#3.Створіть масив розміром 5x5, заповніть його випадковими цілими числами в діапазоні від 1 до 10 та виведіть його значення.\n",
    "matrix = np.random.randint(1, 10, size=(5, 5))\n",
    "print(matrix)"
   ]
  },
  {
   "cell_type": "code",
   "execution_count": 7,
   "id": "b6430eb4",
   "metadata": {},
   "outputs": [
    {
     "name": "stdout",
     "output_type": "stream",
     "text": [
      "[[0 0 0 0]\n",
      " [0 0 0 0]\n",
      " [0 0 0 0]\n",
      " [0 0 0 0]]\n"
     ]
    }
   ],
   "source": [
    "#4.Створіть масив розміром 4x4, заповніть його випадковими дійсними числами в діапазоні від 0 до 1 та виведіть його значення.\n",
    "matrix = np.random.randint(0, 1, size=(4, 4))\n",
    "print(matrix)"
   ]
  },
  {
   "cell_type": "code",
   "execution_count": 10,
   "id": "4a326cf5",
   "metadata": {},
   "outputs": [
    {
     "name": "stdout",
     "output_type": "stream",
     "text": [
      "[15 12  6  6  3]\n",
      "[1 6 0 4 3]\n",
      "[56 27  9  5  0]\n"
     ]
    }
   ],
   "source": [
    "#5.Створіть два одновимірних масиви розміром 5, заповніть їх випадковими цілими числами в діапазоні від 1 до 10 та виконайте на них поелементні операції додавання, віднімання та множення.\n",
    "a = np.random.randint(0, 10, 5)\n",
    "b = np.random.randint(0, 10, 5)\n",
    "print(a+b)\n",
    "print(a-b)\n",
    "print(a*b)"
   ]
  },
  {
   "cell_type": "code",
   "execution_count": 11,
   "id": "e174b176",
   "metadata": {},
   "outputs": [
    {
     "name": "stdout",
     "output_type": "stream",
     "text": [
      "1.6465598713304541\n"
     ]
    }
   ],
   "source": [
    "#6.Створіть два вектори розміром 7, заповніть довільними числами та знайдіть їх скалярний добуток.\n",
    "a = np.random.random(7)\n",
    "b = np.random.random(7)\n",
    "print(np.dot(a, b))"
   ]
  },
  {
   "cell_type": "code",
   "execution_count": 14,
   "id": "9b653981",
   "metadata": {},
   "outputs": [
    {
     "name": "stdout",
     "output_type": "stream",
     "text": [
      "[[33 39 42]\n",
      " [61 75 74]]\n"
     ]
    }
   ],
   "source": [
    "#7.Створіть дві матриці розміром 2x2 та 2x3, заповніть їх випадковими цілими числами в діапазоні від 1 до 10 та перемножте їх між собою.\n",
    "a = np.random.randint(0, 10, size=(2, 2))\n",
    "b = np.random.randint(0, 10, size=(2, 3))\n",
    "print(np.dot(a, b))"
   ]
  },
  {
   "cell_type": "code",
   "execution_count": 15,
   "id": "4bf4157f",
   "metadata": {},
   "outputs": [
    {
     "name": "stdout",
     "output_type": "stream",
     "text": [
      "[[-0.12962963  0.16666667  0.25925926]\n",
      " [ 0.11111111  0.         -0.22222222]\n",
      " [ 0.08641975 -0.11111111  0.16049383]]\n"
     ]
    }
   ],
   "source": [
    "#8.Створіть матрицю розміром 3x3, заповніть її випадковими цілими числами в діапазоні від 1 до 10 та знайдіть її обернену матрицю.\n",
    "a = np.random.randint(0, 10, size=(3, 3))\n",
    "print(np.linalg.inv(a))"
   ]
  },
  {
   "cell_type": "code",
   "execution_count": 16,
   "id": "703d44c2",
   "metadata": {},
   "outputs": [
    {
     "name": "stdout",
     "output_type": "stream",
     "text": [
      "[[2 4 0 3]\n",
      " [4 6 5 9]\n",
      " [0 8 8 0]\n",
      " [9 8 7 0]]\n"
     ]
    }
   ],
   "source": [
    "#9.Створіть матрицю розміром 4x4, заповніть її випадковими дійсними числами в діапазоні від 0 до 1 та транспонуйте її.\n",
    "a = np.random.randint(0, 10, size=(4, 4))\n",
    "print(a.T)"
   ]
  },
  {
   "cell_type": "code",
   "execution_count": 17,
   "id": "59f2b838",
   "metadata": {},
   "outputs": [
    {
     "name": "stdout",
     "output_type": "stream",
     "text": [
      "[[54 20 48 10]\n",
      " [18 35 16 45]\n",
      " [48 40 56 35]]\n"
     ]
    }
   ],
   "source": [
    "#10.Створіть матрицю розміром 3x4 та вектор розміром 4, заповніть їх випадковими цілими числами в діапазоні від 1 до 10 та перемножте матрицю на вектор.\n",
    "a = np.random.randint(0, 10, size=(3, 4))\n",
    "b = np.random.randint(0, 10, 4)\n",
    "print(a*b)"
   ]
  },
  {
   "cell_type": "code",
   "execution_count": 18,
   "id": "fac33307",
   "metadata": {},
   "outputs": [
    {
     "name": "stdout",
     "output_type": "stream",
     "text": [
      "[[0 0 0]\n",
      " [0 0 0]]\n"
     ]
    }
   ],
   "source": [
    "#11.Створіть матрицю розміром 2x3 та вектор розміром 3, заповніть їх випадковими дійсними числами в діапазоні від 0 до 1 та перемножте матрицю на вектор.\n",
    "a = np.random.randint(0, 1, size=(2, 3))\n",
    "b = np.random.randint(0, 1, 3)\n",
    "print(a*b)"
   ]
  },
  {
   "cell_type": "code",
   "execution_count": 6,
   "id": "eb02d0a8",
   "metadata": {},
   "outputs": [
    {
     "name": "stdout",
     "output_type": "stream",
     "text": [
      "[[2 0]\n",
      " [1 4]]\n",
      "[[8 0]\n",
      " [7 9]]\n",
      "[[16  0]\n",
      " [36 36]]\n"
     ]
    }
   ],
   "source": [
    "#12.Створіть дві матриці розміром 2x2, заповніть їх випадковими цілими числами в діапазоні від 1 до 10 та виконайте їхнє поелементне множення.\n",
    "a = np.random.randint(0, 10, size=(2, 2))\n",
    "b = np.random.randint(0, 10, size=(2, 2))\n",
    "print(a)\n",
    "print(b)\n",
    "print(np.dot(a, b))"
   ]
  },
  {
   "cell_type": "code",
   "execution_count": 7,
   "id": "ededbf0a",
   "metadata": {},
   "outputs": [
    {
     "name": "stdout",
     "output_type": "stream",
     "text": [
      "[[ 7  0]\n",
      " [ 0 56]]\n"
     ]
    }
   ],
   "source": [
    "#13.Створіть дві матриці розміром 2x2, заповніть їх випадковими цілими числами в діапазоні від 1 до 10 та знайдіть їх добуток.\n",
    "a = np.random.randint(0, 10, size=(2, 2))\n",
    "b = np.random.randint(0, 10, size=(2, 2))\n",
    "print(a * b)"
   ]
  },
  {
   "cell_type": "code",
   "execution_count": 11,
   "id": "222f70fe",
   "metadata": {},
   "outputs": [
    {
     "name": "stdout",
     "output_type": "stream",
     "text": [
      "[[40 31 33 29 57]\n",
      " [61 28 54 46 67]\n",
      " [37 34 14 96 49]\n",
      " [ 6 91 30 71 44]\n",
      " [93 87 14 42 58]]\n",
      "1212\n"
     ]
    }
   ],
   "source": [
    "#14.Створіть матрицю розміром 5x5, заповніть її випадковими цілими числами в діапазоні від 1 до 100 та знайдіть суму елементів матриці.\n",
    "a = np.random.randint(0, 100, size=(5, 5))\n",
    "print(a)\n",
    "print(a.sum())"
   ]
  },
  {
   "cell_type": "code",
   "execution_count": 12,
   "id": "8e4002f1",
   "metadata": {},
   "outputs": [
    {
     "name": "stdout",
     "output_type": "stream",
     "text": [
      "[[ 0 -2  5 -6]\n",
      " [-4  1  2  6]\n",
      " [-1  5 -2 -2]\n",
      " [-2 -5  2 -1]]\n"
     ]
    }
   ],
   "source": [
    "#15.Створіть дві матриці розміром 4x4, заповніть їх випадковими цілими числами в діапазоні від 1 до 10 та знайдіть їхню різницю.\n",
    "a = np.random.randint(0, 10, size=(4, 4))\n",
    "b = np.random.randint(0, 10, size=(4, 4))\n",
    "print(a - b)"
   ]
  },
  {
   "cell_type": "code",
   "execution_count": 5,
   "id": "45b85a1d",
   "metadata": {},
   "outputs": [
    {
     "name": "stdout",
     "output_type": "stream",
     "text": [
      "[[1 1 1]\n",
      " [0 0 1]\n",
      " [0 0 0]]\n",
      "[[1]\n",
      " [1]\n",
      " [2]]\n"
     ]
    }
   ],
   "source": [
    "#16.Створіть матрицю розміром 3x3, заповніть її випадковими дійсними числами в діапазоні від 0 до 1 та знайдіть вектор-стовпчик, що містить суму елементів кожного рядка матриці.\n",
    "a = np.random.randint(0, 2, size=(3, 3), dtype=int)\n",
    "print(a)\n",
    "b = np.sum(a, axis=0)\n",
    "print(np.reshape(b, (-1, 1)))"
   ]
  },
  {
   "cell_type": "code",
   "execution_count": 32,
   "id": "1f524ca4",
   "metadata": {},
   "outputs": [
    {
     "name": "stdout",
     "output_type": "stream",
     "text": [
      "[[3 1 4 6]\n",
      " [3 6 7 4]\n",
      " [4 2 6 7]]\n",
      "[[ 9  1 16 36]\n",
      " [ 9 36 49 16]\n",
      " [16  4 36 49]]\n"
     ]
    }
   ],
   "source": [
    "#17.Створіть матрицю розміром 3x4 з довільними цілими числами і створінь матрицю з квадратами цих чисел.\n",
    "a = np.random.randint(1, 10, size=(3, 4), dtype=int)\n",
    "print(a)\n",
    "print(a * a)"
   ]
  },
  {
   "cell_type": "code",
   "execution_count": 36,
   "id": "8fa357a8",
   "metadata": {},
   "outputs": [
    {
     "name": "stdout",
     "output_type": "stream",
     "text": [
      "[ 4  9  6 25]\n",
      "[2.         3.         2.44948974 5.        ]\n"
     ]
    }
   ],
   "source": [
    "#18.Створіть вектор розміром 4, заповніть його випадковими цілими числами в діапазоні від 1 до 50 та знайдіть вектор з квадратними коренями цих чисел.\n",
    "a = np.array([4, 9, 6, 25], dtype=int)\n",
    "print(a)\n",
    "print(np.sqrt(a))"
   ]
  },
  {
   "cell_type": "code",
   "execution_count": 3,
   "id": "4bd4bf3e",
   "metadata": {},
   "outputs": [
    {
     "name": "stdout",
     "output_type": "stream",
     "text": [
      "[[0.9820638  0.18391386 0.38125471]\n",
      " [0.90132196 0.35995848 0.33534451]\n",
      " [0.51603624 0.55247594 0.98754099]]\n",
      "Вектор-стовпчик з сумами елементів кожного рядка:\n",
      "[[1.54723237]\n",
      " [1.59662495]\n",
      " [2.05605317]]\n"
     ]
    }
   ],
   "source": [
    "a = np.random.rand(3, 3)\n",
    "print(a)\n",
    "\n",
    "# Обчислення сум елементів кожного рядка матриці\n",
    "row_sums = a.sum(axis=1)\n",
    "\n",
    "# Перетворення одновимірного масиву на вектор-стовпчик\n",
    "col_vec = row_sums.reshape((-1, 1))\n",
    "\n",
    "print(\"Вектор-стовпчик з сумами елементів кожного рядка:\")\n",
    "print(col_vec)"
   ]
  },
  {
   "cell_type": "code",
   "execution_count": null,
   "id": "66d44957",
   "metadata": {},
   "outputs": [],
   "source": []
  }
 ],
 "metadata": {
  "kernelspec": {
   "display_name": "Python 3 (ipykernel)",
   "language": "python",
   "name": "python3"
  },
  "language_info": {
   "codemirror_mode": {
    "name": "ipython",
    "version": 3
   },
   "file_extension": ".py",
   "mimetype": "text/x-python",
   "name": "python",
   "nbconvert_exporter": "python",
   "pygments_lexer": "ipython3",
   "version": "3.9.7"
  }
 },
 "nbformat": 4,
 "nbformat_minor": 5
}
